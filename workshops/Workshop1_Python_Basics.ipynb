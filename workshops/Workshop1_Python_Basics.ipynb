{
  "nbformat": 4,
  "nbformat_minor": 0,
  "metadata": {
    "colab": {
      "provenance": []
    },
    "kernelspec": {
      "name": "python3",
      "display_name": "Python 3"
    },
    "language_info": {
      "name": "python"
    }
  },
  "cells": [
    {
      "cell_type": "markdown",
      "source": [
        "#This is the first workshop for GSS Team 7. The goal of this workshop is to help you learn or review the basics of Python programming (data types), and be familiar with Google Colab.\n",
        "\n"
      ],
      "metadata": {
        "id": "JQKWhp_HpUWk"
      }
    },
    {
      "cell_type": "markdown",
      "source": [
        "## Python Constants, Variables, Printing, Arithmetic"
      ],
      "metadata": {
        "id": "F2c379o5p1ux"
      }
    },
    {
      "cell_type": "code",
      "execution_count": 1,
      "metadata": {
        "colab": {
          "base_uri": "https://localhost:8080/"
        },
        "id": "lx4qg0t4pPzc",
        "outputId": "168403f4-5c9d-4c6f-e210-ca818bc7879f"
      },
      "outputs": [
        {
          "output_type": "execute_result",
          "data": {
            "text/plain": [
              "3"
            ]
          },
          "metadata": {},
          "execution_count": 1
        }
      ],
      "source": [
        "3"
      ]
    },
    {
      "cell_type": "code",
      "source": [
        "3+3"
      ],
      "metadata": {
        "colab": {
          "base_uri": "https://localhost:8080/"
        },
        "id": "sJODC74pqLdQ",
        "outputId": "206cc64d-a020-47b8-e324-5f3f4195d58d"
      },
      "execution_count": 2,
      "outputs": [
        {
          "output_type": "execute_result",
          "data": {
            "text/plain": [
              "6"
            ]
          },
          "metadata": {},
          "execution_count": 2
        }
      ]
    },
    {
      "cell_type": "code",
      "source": [
        "x=3+3"
      ],
      "metadata": {
        "id": "rhuRbYxuqN1z"
      },
      "execution_count": 3,
      "outputs": []
    },
    {
      "cell_type": "markdown",
      "source": [
        "In Notebook, simply typing the name of a variable will print its value.\n",
        "But in Python code written in a file outside of Notebook/Python console, you must use the print function."
      ],
      "metadata": {
        "id": "PVZARB7MqWlS"
      }
    },
    {
      "cell_type": "code",
      "source": [
        "x"
      ],
      "metadata": {
        "colab": {
          "base_uri": "https://localhost:8080/"
        },
        "id": "vKc8ZNxAqQsv",
        "outputId": "82833fe5-ca58-4ce3-c768-52da33d2797a"
      },
      "execution_count": 4,
      "outputs": [
        {
          "output_type": "execute_result",
          "data": {
            "text/plain": [
              "6"
            ]
          },
          "metadata": {},
          "execution_count": 4
        }
      ]
    },
    {
      "cell_type": "code",
      "source": [
        "print(x)"
      ],
      "metadata": {
        "colab": {
          "base_uri": "https://localhost:8080/"
        },
        "id": "ilgXaPKGqX50",
        "outputId": "21554cab-1613-4947-f005-e108e70ab024"
      },
      "execution_count": 5,
      "outputs": [
        {
          "output_type": "stream",
          "name": "stdout",
          "text": [
            "6\n"
          ]
        }
      ]
    },
    {
      "cell_type": "code",
      "source": [
        "type(x)"
      ],
      "metadata": {
        "colab": {
          "base_uri": "https://localhost:8080/"
        },
        "id": "sOdO7ZL8qy1F",
        "outputId": "d9ec047d-a66b-4ed1-9d38-5b2ec04c99ea"
      },
      "execution_count": 6,
      "outputs": [
        {
          "output_type": "execute_result",
          "data": {
            "text/plain": [
              "int"
            ]
          },
          "metadata": {},
          "execution_count": 6
        }
      ]
    },
    {
      "cell_type": "markdown",
      "source": [
        "You can string together variables, constants, and literals in a print call.<br>\n",
        "Literals can be enclosed in single or double quotes, makes no difference."
      ],
      "metadata": {
        "id": "AHGOrFpiq_U3"
      }
    },
    {
      "cell_type": "code",
      "source": [
        "a=2\n",
        "p=a*a"
      ],
      "metadata": {
        "id": "Qtzj-nd-rXUl"
      },
      "execution_count": 7,
      "outputs": []
    },
    {
      "cell_type": "code",
      "source": [
        "print(a,',',p)\n",
        "print(a,\",\",p)"
      ],
      "metadata": {
        "colab": {
          "base_uri": "https://localhost:8080/"
        },
        "id": "cY214vxkrClk",
        "outputId": "7b89f07c-0750-4230-9c4c-bba0417c019f"
      },
      "execution_count": 8,
      "outputs": [
        {
          "output_type": "stream",
          "name": "stdout",
          "text": [
            "2 , 4\n",
            "2 , 4\n"
          ]
        }
      ]
    },
    {
      "cell_type": "markdown",
      "source": [
        "## Arithmetic expressions, math functions\n"
      ],
      "metadata": {
        "id": "t43-oE-urpoz"
      }
    },
    {
      "cell_type": "code",
      "source": [
        "a=10\n",
        "b=14"
      ],
      "metadata": {
        "id": "Dl59HDTer4ty"
      },
      "execution_count": 9,
      "outputs": []
    },
    {
      "cell_type": "markdown",
      "source": [
        "Summation"
      ],
      "metadata": {
        "id": "Gy5ZWYdkrzmO"
      }
    },
    {
      "cell_type": "code",
      "source": [
        "a+b"
      ],
      "metadata": {
        "colab": {
          "base_uri": "https://localhost:8080/"
        },
        "id": "kTeuKmAur4SB",
        "outputId": "dc42825f-260a-4ed5-ac27-d844d0b814f4"
      },
      "execution_count": 10,
      "outputs": [
        {
          "output_type": "execute_result",
          "data": {
            "text/plain": [
              "24"
            ]
          },
          "metadata": {},
          "execution_count": 10
        }
      ]
    },
    {
      "cell_type": "markdown",
      "source": [
        "Subtraction"
      ],
      "metadata": {
        "id": "IOfMsfJCr9sP"
      }
    },
    {
      "cell_type": "code",
      "source": [
        "b-a"
      ],
      "metadata": {
        "colab": {
          "base_uri": "https://localhost:8080/"
        },
        "id": "dMZsKNxSr_ff",
        "outputId": "984c5695-542a-4a32-a39f-148c002ad1f8"
      },
      "execution_count": 11,
      "outputs": [
        {
          "output_type": "execute_result",
          "data": {
            "text/plain": [
              "4"
            ]
          },
          "metadata": {},
          "execution_count": 11
        }
      ]
    },
    {
      "cell_type": "code",
      "source": [
        "a-b"
      ],
      "metadata": {
        "colab": {
          "base_uri": "https://localhost:8080/"
        },
        "id": "h8nYi9FssA7y",
        "outputId": "1c576067-3aa8-4ebf-ab75-d8a1c98ab251"
      },
      "execution_count": 12,
      "outputs": [
        {
          "output_type": "execute_result",
          "data": {
            "text/plain": [
              "-4"
            ]
          },
          "metadata": {},
          "execution_count": 12
        }
      ]
    },
    {
      "cell_type": "markdown",
      "source": [
        "Multiplication"
      ],
      "metadata": {
        "id": "C_w4Etp7sHBR"
      }
    },
    {
      "cell_type": "code",
      "source": [
        "a*b"
      ],
      "metadata": {
        "colab": {
          "base_uri": "https://localhost:8080/"
        },
        "id": "lcXn9vj-sItl",
        "outputId": "086c7e15-452b-4d04-ef9d-afb1dfc88291"
      },
      "execution_count": 13,
      "outputs": [
        {
          "output_type": "execute_result",
          "data": {
            "text/plain": [
              "140"
            ]
          },
          "metadata": {},
          "execution_count": 13
        }
      ]
    },
    {
      "cell_type": "markdown",
      "source": [
        "Division"
      ],
      "metadata": {
        "id": "5hCS0gkGsLOb"
      }
    },
    {
      "cell_type": "markdown",
      "source": [
        "Division can be done in one of two ways, with a real number result, or an integer result (fractional part truncated)"
      ],
      "metadata": {
        "id": "L-2YxdwRra8u"
      }
    },
    {
      "cell_type": "code",
      "source": [
        "b/a # real number result"
      ],
      "metadata": {
        "colab": {
          "base_uri": "https://localhost:8080/"
        },
        "id": "_VXetlRGrox2",
        "outputId": "b5bc7ed6-bb52-41d8-b33f-fc680b46aaed"
      },
      "execution_count": 14,
      "outputs": [
        {
          "output_type": "execute_result",
          "data": {
            "text/plain": [
              "1.4"
            ]
          },
          "metadata": {},
          "execution_count": 14
        }
      ]
    },
    {
      "cell_type": "code",
      "source": [
        "b//a # integer result, fractional part truncated"
      ],
      "metadata": {
        "colab": {
          "base_uri": "https://localhost:8080/"
        },
        "id": "G7jQ4N8Esu5_",
        "outputId": "d09abb6e-7717-403c-d4f0-5f69d353a122"
      },
      "execution_count": 15,
      "outputs": [
        {
          "output_type": "execute_result",
          "data": {
            "text/plain": [
              "1"
            ]
          },
          "metadata": {},
          "execution_count": 15
        }
      ]
    },
    {
      "cell_type": "code",
      "source": [
        "a/0 # error"
      ],
      "metadata": {
        "colab": {
          "base_uri": "https://localhost:8080/",
          "height": 166
        },
        "id": "uMyHdOeNs2JK",
        "outputId": "f1c739c0-a2ca-4c72-bea2-c8e79ca7c536"
      },
      "execution_count": 16,
      "outputs": [
        {
          "output_type": "error",
          "ename": "ZeroDivisionError",
          "evalue": "ignored",
          "traceback": [
            "\u001b[0;31m---------------------------------------------------------------------------\u001b[0m",
            "\u001b[0;31mZeroDivisionError\u001b[0m                         Traceback (most recent call last)",
            "\u001b[0;32m<ipython-input-16-deacdc4ccabc>\u001b[0m in \u001b[0;36m<module>\u001b[0;34m\u001b[0m\n\u001b[0;32m----> 1\u001b[0;31m \u001b[0ma\u001b[0m\u001b[0;34m/\u001b[0m\u001b[0;36m0\u001b[0m\u001b[0;34m\u001b[0m\u001b[0;34m\u001b[0m\u001b[0m\n\u001b[0m",
            "\u001b[0;31mZeroDivisionError\u001b[0m: division by zero"
          ]
        }
      ]
    },
    {
      "cell_type": "code",
      "source": [
        "b%a # modulus function, gives remainder of 15 divided by 4"
      ],
      "metadata": {
        "colab": {
          "base_uri": "https://localhost:8080/"
        },
        "id": "4H3EYz4Bs8f1",
        "outputId": "0d1efbf9-7596-4a71-a14d-d16d308fb17f"
      },
      "execution_count": 17,
      "outputs": [
        {
          "output_type": "execute_result",
          "data": {
            "text/plain": [
              "4"
            ]
          },
          "metadata": {},
          "execution_count": 17
        }
      ]
    },
    {
      "cell_type": "markdown",
      "source": [
        "Modulus can be used on real numbers as well, and divisor can be an integer or real number."
      ],
      "metadata": {
        "id": "Ym3jmhVltFW9"
      }
    },
    {
      "cell_type": "code",
      "source": [
        "7.4 % 5"
      ],
      "metadata": {
        "colab": {
          "base_uri": "https://localhost:8080/"
        },
        "id": "Tq3-Jaw_tC2S",
        "outputId": "58d3d11b-709c-4cb4-83c9-72c375fbb54b"
      },
      "execution_count": 18,
      "outputs": [
        {
          "output_type": "execute_result",
          "data": {
            "text/plain": [
              "2.4000000000000004"
            ]
          },
          "metadata": {},
          "execution_count": 18
        }
      ]
    },
    {
      "cell_type": "markdown",
      "source": [
        "Other Operations"
      ],
      "metadata": {
        "id": "OoI2npk1uaa0"
      }
    },
    {
      "cell_type": "code",
      "source": [
        "2 + 3 * 5  # * (and /) precede + (and -)"
      ],
      "metadata": {
        "colab": {
          "base_uri": "https://localhost:8080/"
        },
        "id": "KOE_kh9BumZA",
        "outputId": "7404a455-9fb9-4748-a2ba-7746d0e1630e"
      },
      "execution_count": 19,
      "outputs": [
        {
          "output_type": "execute_result",
          "data": {
            "text/plain": [
              "17"
            ]
          },
          "metadata": {},
          "execution_count": 19
        }
      ]
    },
    {
      "cell_type": "code",
      "source": [
        "(2+3) * 5"
      ],
      "metadata": {
        "colab": {
          "base_uri": "https://localhost:8080/"
        },
        "id": "MR5MfXuNuuhT",
        "outputId": "3c4d8d62-9147-412b-b217-6c61f02ab210"
      },
      "execution_count": 20,
      "outputs": [
        {
          "output_type": "execute_result",
          "data": {
            "text/plain": [
              "25"
            ]
          },
          "metadata": {},
          "execution_count": 20
        }
      ]
    },
    {
      "cell_type": "code",
      "source": [
        "3 ** 2 # power"
      ],
      "metadata": {
        "colab": {
          "base_uri": "https://localhost:8080/"
        },
        "id": "zUS3eFLwux33",
        "outputId": "375694ee-e214-4636-acc1-3649d51f2827"
      },
      "execution_count": 21,
      "outputs": [
        {
          "output_type": "execute_result",
          "data": {
            "text/plain": [
              "9"
            ]
          },
          "metadata": {},
          "execution_count": 21
        }
      ]
    },
    {
      "cell_type": "code",
      "source": [
        "3 ** 2.2"
      ],
      "metadata": {
        "colab": {
          "base_uri": "https://localhost:8080/"
        },
        "id": "l5LThSr1u0Zb",
        "outputId": "b5b38672-0f10-4df5-a642-718dd01cf56d"
      },
      "execution_count": 22,
      "outputs": [
        {
          "output_type": "execute_result",
          "data": {
            "text/plain": [
              "11.211578456539659"
            ]
          },
          "metadata": {},
          "execution_count": 22
        }
      ]
    },
    {
      "cell_type": "code",
      "source": [
        "3 ** -2"
      ],
      "metadata": {
        "colab": {
          "base_uri": "https://localhost:8080/"
        },
        "id": "xFndrjWhu7s3",
        "outputId": "6d1d2fee-ad08-40af-fec5-16030d77170a"
      },
      "execution_count": 23,
      "outputs": [
        {
          "output_type": "execute_result",
          "data": {
            "text/plain": [
              "0.1111111111111111"
            ]
          },
          "metadata": {},
          "execution_count": 23
        }
      ]
    },
    {
      "cell_type": "markdown",
      "source": [
        "Casting"
      ],
      "metadata": {
        "id": "4nWEJ6HvvCGO"
      }
    },
    {
      "cell_type": "code",
      "source": [
        "# real to int\n",
        "x = int(5.5)\n",
        "x"
      ],
      "metadata": {
        "colab": {
          "base_uri": "https://localhost:8080/"
        },
        "id": "w6zfTGVnu_cP",
        "outputId": "964d4ef6-bc5f-47a8-a8f9-4c4c41579af9"
      },
      "execution_count": 24,
      "outputs": [
        {
          "output_type": "execute_result",
          "data": {
            "text/plain": [
              "5"
            ]
          },
          "metadata": {},
          "execution_count": 24
        }
      ]
    },
    {
      "cell_type": "markdown",
      "source": [
        "Using the math module"
      ],
      "metadata": {
        "id": "Z3H6BbmdvgJV"
      }
    },
    {
      "cell_type": "code",
      "source": [
        "import math\n",
        "\n",
        "print(math.pow(3,2)) # 3^2\n",
        "print(math.pow(3,3)) # 3^3"
      ],
      "metadata": {
        "colab": {
          "base_uri": "https://localhost:8080/"
        },
        "id": "7UQ8o8nPvmdF",
        "outputId": "2b041dc4-0354-4725-a501-5127f3662fd0"
      },
      "execution_count": 25,
      "outputs": [
        {
          "output_type": "stream",
          "name": "stdout",
          "text": [
            "9.0\n",
            "27.0\n"
          ]
        }
      ]
    },
    {
      "cell_type": "code",
      "source": [
        "print(math.pow(-3.2,2))"
      ],
      "metadata": {
        "colab": {
          "base_uri": "https://localhost:8080/"
        },
        "id": "F12VxsL3vsfr",
        "outputId": "d95b54dc-58b8-4d56-eea9-2ec9b80bf814"
      },
      "execution_count": 26,
      "outputs": [
        {
          "output_type": "stream",
          "name": "stdout",
          "text": [
            "10.240000000000002\n"
          ]
        }
      ]
    },
    {
      "cell_type": "code",
      "source": [
        "print(math.pow(-3.2,1.5))"
      ],
      "metadata": {
        "colab": {
          "base_uri": "https://localhost:8080/",
          "height": 166
        },
        "id": "SlrwKfxOvySN",
        "outputId": "5a155bd8-e59b-4225-cbc1-dd38c3f87eb8"
      },
      "execution_count": 27,
      "outputs": [
        {
          "output_type": "error",
          "ename": "ValueError",
          "evalue": "ignored",
          "traceback": [
            "\u001b[0;31m---------------------------------------------------------------------------\u001b[0m",
            "\u001b[0;31mValueError\u001b[0m                                Traceback (most recent call last)",
            "\u001b[0;32m<ipython-input-27-fc627145eba0>\u001b[0m in \u001b[0;36m<module>\u001b[0;34m\u001b[0m\n\u001b[0;32m----> 1\u001b[0;31m \u001b[0mprint\u001b[0m\u001b[0;34m(\u001b[0m\u001b[0mmath\u001b[0m\u001b[0;34m.\u001b[0m\u001b[0mpow\u001b[0m\u001b[0;34m(\u001b[0m\u001b[0;34m-\u001b[0m\u001b[0;36m3.2\u001b[0m\u001b[0;34m,\u001b[0m\u001b[0;36m1.5\u001b[0m\u001b[0;34m)\u001b[0m\u001b[0;34m)\u001b[0m\u001b[0;34m\u001b[0m\u001b[0;34m\u001b[0m\u001b[0m\n\u001b[0m",
            "\u001b[0;31mValueError\u001b[0m: math domain error"
          ]
        }
      ]
    },
    {
      "cell_type": "markdown",
      "source": [
        "Note that for math.pow(x,y), if x is negative and y is not an integer, then pow is undefined and raises an error."
      ],
      "metadata": {
        "id": "qfkD3hjHv5wP"
      }
    },
    {
      "cell_type": "markdown",
      "source": [
        "## String"
      ],
      "metadata": {
        "id": "i8N2epd_wCKC"
      }
    },
    {
      "cell_type": "code",
      "source": [
        "wr = 'Hello World' # First program for all programmers. :)\n",
        "print(wr)"
      ],
      "metadata": {
        "colab": {
          "base_uri": "https://localhost:8080/"
        },
        "id": "lg_eiTTmv-5Q",
        "outputId": "a8c8f3f1-3f9f-4874-b73b-5d4e41d73363"
      },
      "execution_count": 28,
      "outputs": [
        {
          "output_type": "stream",
          "name": "stdout",
          "text": [
            "Hello World\n"
          ]
        }
      ]
    },
    {
      "cell_type": "markdown",
      "source": [
        "Concatenate strings using +"
      ],
      "metadata": {
        "id": "UdFe_N9FwyoK"
      }
    },
    {
      "cell_type": "code",
      "source": [
        "print(\"Hello\"+ \" \" + \"World\")"
      ],
      "metadata": {
        "colab": {
          "base_uri": "https://localhost:8080/"
        },
        "id": "q981nn8WwifT",
        "outputId": "4843a014-ec02-443b-d66e-34997454b85c"
      },
      "execution_count": 29,
      "outputs": [
        {
          "output_type": "stream",
          "name": "stdout",
          "text": [
            "Hello World\n"
          ]
        }
      ]
    },
    {
      "cell_type": "markdown",
      "source": [
        "But you can't directly concatenate non-string parts - you need to use str function to convert to string first."
      ],
      "metadata": {
        "id": "Sa7vTgK0w7SM"
      }
    },
    {
      "cell_type": "code",
      "source": [
        "print(\"The first natural number is \"+1) # error"
      ],
      "metadata": {
        "colab": {
          "base_uri": "https://localhost:8080/",
          "height": 166
        },
        "id": "kOIziNuKw3Pr",
        "outputId": "187b7801-7d2c-4c62-87e2-46dc4f70856d"
      },
      "execution_count": 32,
      "outputs": [
        {
          "output_type": "error",
          "ename": "TypeError",
          "evalue": "ignored",
          "traceback": [
            "\u001b[0;31m---------------------------------------------------------------------------\u001b[0m",
            "\u001b[0;31mTypeError\u001b[0m                                 Traceback (most recent call last)",
            "\u001b[0;32m<ipython-input-32-ff2ca88c1e3c>\u001b[0m in \u001b[0;36m<module>\u001b[0;34m\u001b[0m\n\u001b[0;32m----> 1\u001b[0;31m \u001b[0mprint\u001b[0m\u001b[0;34m(\u001b[0m\u001b[0;34m\"The first natural number is \"\u001b[0m\u001b[0;34m+\u001b[0m\u001b[0;36m1\u001b[0m\u001b[0;34m)\u001b[0m \u001b[0;31m# error\u001b[0m\u001b[0;34m\u001b[0m\u001b[0;34m\u001b[0m\u001b[0m\n\u001b[0m",
            "\u001b[0;31mTypeError\u001b[0m: can only concatenate str (not \"int\") to str"
          ]
        }
      ]
    },
    {
      "cell_type": "code",
      "source": [
        "print(\"The first natural number is \"+str(1))"
      ],
      "metadata": {
        "colab": {
          "base_uri": "https://localhost:8080/"
        },
        "id": "O0EncDJHxGSk",
        "outputId": "3c6e2846-83cd-49e1-ec4e-963522bcd019"
      },
      "execution_count": 33,
      "outputs": [
        {
          "output_type": "stream",
          "name": "stdout",
          "text": [
            "The first natural number is 1\n"
          ]
        }
      ]
    },
    {
      "cell_type": "markdown",
      "source": [
        "### Formatting the output"
      ],
      "metadata": {
        "id": "oPehgoPsxSMm"
      }
    },
    {
      "cell_type": "markdown",
      "source": [
        "Using the format function"
      ],
      "metadata": {
        "id": "Oe2Stbn1yogS"
      }
    },
    {
      "cell_type": "code",
      "source": [
        "m=15\n",
        "n=10\n",
        "print(\"{0}/{1} = {2}\".format(m,n,m/n))"
      ],
      "metadata": {
        "colab": {
          "base_uri": "https://localhost:8080/"
        },
        "id": "lSYxA63sxZHM",
        "outputId": "67c85bac-f256-4ea1-9585-551bacbc198e"
      },
      "execution_count": 34,
      "outputs": [
        {
          "output_type": "stream",
          "name": "stdout",
          "text": [
            "15/10 = 1.5\n"
          ]
        }
      ]
    },
    {
      "cell_type": "markdown",
      "source": [
        "Using the f-string"
      ],
      "metadata": {
        "id": "CD_WHTONxVj-"
      }
    },
    {
      "cell_type": "code",
      "source": [
        "print(f'{m}/{n} = {m/n}')"
      ],
      "metadata": {
        "id": "5eO5W6jhyvB0"
      },
      "execution_count": null,
      "outputs": []
    },
    {
      "cell_type": "markdown",
      "source": [
        "### Interpreting number appearing as string"
      ],
      "metadata": {
        "id": "u8xln4bxy4v1"
      }
    },
    {
      "cell_type": "code",
      "source": [
        "x=int('5')\n",
        "print(x)\n",
        "type(x)"
      ],
      "metadata": {
        "colab": {
          "base_uri": "https://localhost:8080/"
        },
        "id": "irA_p5D-y7_E",
        "outputId": "a6c467f2-663b-4f10-dd36-5be3f4a71a91"
      },
      "execution_count": 35,
      "outputs": [
        {
          "output_type": "stream",
          "name": "stdout",
          "text": [
            "5\n"
          ]
        },
        {
          "output_type": "execute_result",
          "data": {
            "text/plain": [
              "int"
            ]
          },
          "metadata": {},
          "execution_count": 35
        }
      ]
    },
    {
      "cell_type": "code",
      "source": [
        "y = float('-5.5')\n",
        "print(y)\n",
        "type(y)"
      ],
      "metadata": {
        "colab": {
          "base_uri": "https://localhost:8080/"
        },
        "id": "8NyZXhmky-0k",
        "outputId": "d0b59980-a25a-4085-ae68-64743f67c8d0"
      },
      "execution_count": 36,
      "outputs": [
        {
          "output_type": "stream",
          "name": "stdout",
          "text": [
            "-5.5\n"
          ]
        },
        {
          "output_type": "execute_result",
          "data": {
            "text/plain": [
              "float"
            ]
          },
          "metadata": {},
          "execution_count": 36
        }
      ]
    },
    {
      "cell_type": "markdown",
      "source": [
        "## Boolean values and expressions\n",
        "\n",
        "\n"
      ],
      "metadata": {
        "id": "1uZdAXEXzDaj"
      }
    },
    {
      "cell_type": "code",
      "source": [
        "tr = True\n",
        "fl = False\n",
        "print(tr,',',fl)"
      ],
      "metadata": {
        "colab": {
          "base_uri": "https://localhost:8080/"
        },
        "id": "N9aEY1FhzF28",
        "outputId": "e0d49af1-6abe-4061-e6bd-2050cc4e8778"
      },
      "execution_count": 37,
      "outputs": [
        {
          "output_type": "stream",
          "name": "stdout",
          "text": [
            "True , False\n"
          ]
        }
      ]
    },
    {
      "cell_type": "code",
      "source": [
        "type(tr)"
      ],
      "metadata": {
        "colab": {
          "base_uri": "https://localhost:8080/"
        },
        "id": "_f2t-QugzJGg",
        "outputId": "72f536eb-d52b-42d9-a602-ea0f6f95b906"
      },
      "execution_count": 38,
      "outputs": [
        {
          "output_type": "execute_result",
          "data": {
            "text/plain": [
              "bool"
            ]
          },
          "metadata": {},
          "execution_count": 38
        }
      ]
    },
    {
      "cell_type": "code",
      "source": [
        "2 == 3 # eqaul relation"
      ],
      "metadata": {
        "colab": {
          "base_uri": "https://localhost:8080/"
        },
        "id": "z2xGyceIzQfJ",
        "outputId": "400a5a34-3506-4b2e-a9b4-ea80ae600208"
      },
      "execution_count": 39,
      "outputs": [
        {
          "output_type": "execute_result",
          "data": {
            "text/plain": [
              "False"
            ]
          },
          "metadata": {},
          "execution_count": 39
        }
      ]
    },
    {
      "cell_type": "code",
      "source": [
        "2 != 3 # not equal"
      ],
      "metadata": {
        "colab": {
          "base_uri": "https://localhost:8080/"
        },
        "id": "IVcpdoHHzVwy",
        "outputId": "e946100a-e325-4dd3-f340-7185cbac2764"
      },
      "execution_count": 40,
      "outputs": [
        {
          "output_type": "execute_result",
          "data": {
            "text/plain": [
              "True"
            ]
          },
          "metadata": {},
          "execution_count": 40
        }
      ]
    },
    {
      "cell_type": "code",
      "source": [
        "num1 = 9\n",
        "num2 = -10\n",
        "num3 = 15"
      ],
      "metadata": {
        "id": "TB3UlwTPzYqZ"
      },
      "execution_count": 41,
      "outputs": []
    },
    {
      "cell_type": "code",
      "source": [
        "res = (num3 > 0)"
      ],
      "metadata": {
        "id": "fX380A_qzdkH"
      },
      "execution_count": 42,
      "outputs": []
    },
    {
      "cell_type": "code",
      "source": [
        "res"
      ],
      "metadata": {
        "colab": {
          "base_uri": "https://localhost:8080/"
        },
        "id": "eWjFVt17ziZf",
        "outputId": "45dc0331-abda-41e2-ca15-a956f23299e0"
      },
      "execution_count": 43,
      "outputs": [
        {
          "output_type": "execute_result",
          "data": {
            "text/plain": [
              "True"
            ]
          },
          "metadata": {},
          "execution_count": 43
        }
      ]
    },
    {
      "cell_type": "code",
      "source": [
        "num1 > 0 and num2 > 0"
      ],
      "metadata": {
        "colab": {
          "base_uri": "https://localhost:8080/"
        },
        "id": "bmexkquUzkQB",
        "outputId": "aad75e2e-a3d6-4c6b-ce66-f920700ed4e7"
      },
      "execution_count": 44,
      "outputs": [
        {
          "output_type": "execute_result",
          "data": {
            "text/plain": [
              "False"
            ]
          },
          "metadata": {},
          "execution_count": 44
        }
      ]
    },
    {
      "cell_type": "code",
      "source": [
        "num1 > 0 or num2 > 0"
      ],
      "metadata": {
        "colab": {
          "base_uri": "https://localhost:8080/"
        },
        "id": "14KurN57zoj6",
        "outputId": "9d784e87-989a-4eb8-edc0-d68a371fe9f0"
      },
      "execution_count": 45,
      "outputs": [
        {
          "output_type": "execute_result",
          "data": {
            "text/plain": [
              "True"
            ]
          },
          "metadata": {},
          "execution_count": 45
        }
      ]
    },
    {
      "cell_type": "code",
      "source": [
        "not (num1 < 0)"
      ],
      "metadata": {
        "colab": {
          "base_uri": "https://localhost:8080/"
        },
        "id": "SKxQt3kGzrRK",
        "outputId": "945c67ca-f322-459c-e7d2-9bfd3811f69b"
      },
      "execution_count": 46,
      "outputs": [
        {
          "output_type": "execute_result",
          "data": {
            "text/plain": [
              "True"
            ]
          },
          "metadata": {},
          "execution_count": 46
        }
      ]
    },
    {
      "cell_type": "markdown",
      "source": [
        "## Practice Probelm\n",
        "\n",
        "We have a qudratic function $ax^2+bx+c=0$ where $a,b,c$ are three real numbers, and we want to write a program to solve this equation. You can assume that this equation always has a solution. You can use $x=\\frac{-b \\pm \\sqrt{b^2-4c}}{2a}$ for this problem. You can use the math library if needed."
      ],
      "metadata": {
        "id": "ReYuovEUzxVQ"
      }
    },
    {
      "cell_type": "code",
      "source": [
        "#These three numbers can be arbitary. Here is just a example for testing purpose.\n",
        "a=1 \n",
        "b=2\n",
        "c=1\n",
        "print(\"Our function is {0}x^2+{1}x+{2}=0\".format(a,b,c))"
      ],
      "metadata": {
        "colab": {
          "base_uri": "https://localhost:8080/"
        },
        "id": "PFSjVlTO4SFE",
        "outputId": "d5c25e48-4154-4bed-8c58-cd8c568a85a8"
      },
      "execution_count": 47,
      "outputs": [
        {
          "output_type": "stream",
          "name": "stdout",
          "text": [
            "Our function is 1x^2+2x+1=0\n"
          ]
        }
      ]
    },
    {
      "cell_type": "code",
      "source": [
        "# Please type you answer here.\n"
      ],
      "metadata": {
        "id": "1CnAyfpn4NwO"
      },
      "execution_count": null,
      "outputs": []
    }
  ]
}